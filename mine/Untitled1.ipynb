{
 "cells": [
  {
   "cell_type": "code",
   "execution_count": 18,
   "metadata": {
    "collapsed": false
   },
   "outputs": [],
   "source": [
    "import os\n",
    "os.getcwd()\n",
    "os.chdir('/home/vagrant/mine')\n"
   ]
  },
  {
   "cell_type": "code",
   "execution_count": 47,
   "metadata": {
    "collapsed": false
   },
   "outputs": [],
   "source": [
    "from pyspark.gaussalgo import knn\n",
    "train=sc.textFile('train.csv',use_unicode=False)\n",
    "head=train.first()\n",
    "schemaStr=\n",
    "t=train.filter(lambda a:a!=head)\n",
    "tt=t.map(lambda a:a.split(','))"
   ]
  },
  {
   "cell_type": "code",
   "execution_count": 57,
   "metadata": {
    "collapsed": false
   },
   "outputs": [],
   "source": [
    "def listToInt(x):\n",
    "    return map(lambda a:int(a),x)"
   ]
  },
  {
   "cell_type": "code",
   "execution_count": 59,
   "metadata": {
    "collapsed": false
   },
   "outputs": [],
   "source": [
    "ttt=tt.map(lambda a:listToInt(a))"
   ]
  },
  {
   "cell_type": "code",
   "execution_count": 62,
   "metadata": {
    "collapsed": false
   },
   "outputs": [],
   "source": [
    "?ttt.toDF()"
   ]
  },
  {
   "cell_type": "code",
   "execution_count": 79,
   "metadata": {
    "collapsed": false
   },
   "outputs": [],
   "source": [
    "sqlContext=SQLContext(sc)\n",
    "#asd=sc.textFile('train.csv',use_unicode=False).map(lambda a:a.split(',')).map(lambda a:listToInt(a))\n",
    "df=sqlContext.createDataFrame(ttt,xx)"
   ]
  },
  {
   "cell_type": "code",
   "execution_count": 81,
   "metadata": {
    "collapsed": false
   },
   "outputs": [],
   "source": [
    "from pyspark.gaussalgo import knn"
   ]
  },
  {
   "cell_type": "code",
   "execution_count": 90,
   "metadata": {
    "collapsed": false
   },
   "outputs": [],
   "source": [
    "from pyspark import SparkContext\n",
    "import numpy as np\n",
    "\n",
    "def init_sc():\n",
    "    return SparkContext(appName='Python K-nn tests')\n",
    "\n",
    "def test_np_vectors():\n",
    "    #sc = init_sc()\n",
    "    left = sc.union([\n",
    "        sc.parallelize([\n",
    "            (1, np.array([0,0,1,1])),\n",
    "            (2, np.array([0,1,1,1]))]),\n",
    "        sc.parallelize([\n",
    "            (3, np.array([0,0,1,1])),\n",
    "            (4, np.array([1,1,1,1]))\n",
    "    ])])\n",
    "    right = sc.union([\n",
    "        sc.parallelize([\n",
    "            (5, np.array([0,0,1,1])),\n",
    "            (6, np.array([0,1,1,1]))]),\n",
    "        sc.parallelize([\n",
    "            (7, np.array([1,0,0,1])),\n",
    "            (8, np.array([1,1,1,1]))\n",
    "    ])])\n",
    "\n",
    "    neighbors = knn.compute_neighbors(left, right, top_n=2).collect()\n",
    "    one = [x for x in neighbors if x[0] == 1][0]\n",
    "    #print neighbors\n",
    "    assert one[1][0][0] == 5 and one[1][1][0] == 6\n",
    "    return neighbors"
   ]
  },
  {
   "cell_type": "code",
   "execution_count": 92,
   "metadata": {
    "collapsed": false
   },
   "outputs": [],
   "source": []
  }
 ],
 "metadata": {
  "kernelspec": {
   "display_name": "Python 2",
   "language": "python",
   "name": "python2"
  },
  "language_info": {
   "codemirror_mode": {
    "name": "ipython",
    "version": 2
   },
   "file_extension": ".py",
   "mimetype": "text/x-python",
   "name": "python",
   "nbconvert_exporter": "python",
   "pygments_lexer": "ipython2",
   "version": "2.7.6"
  }
 },
 "nbformat": 4,
 "nbformat_minor": 0
}
